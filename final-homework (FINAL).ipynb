{
 "cells": [
  {
   "cell_type": "markdown",
   "id": "89210ba3",
   "metadata": {
    "papermill": {
     "duration": 0.039991,
     "end_time": "2022-08-30T03:15:18.571026",
     "exception": false,
     "start_time": "2022-08-30T03:15:18.531035",
     "status": "completed"
    },
    "tags": []
   },
   "source": [
    "    "
   ]
  },
  {
   "cell_type": "markdown",
   "id": "be534b43",
   "metadata": {
    "papermill": {
     "duration": 0.037943,
     "end_time": "2022-08-30T03:15:18.647899",
     "exception": false,
     "start_time": "2022-08-30T03:15:18.609956",
     "status": "completed"
    },
    "tags": []
   },
   "source": [
    "    "
   ]
  },
  {
   "cell_type": "code",
   "execution_count": 1,
   "id": "071ffaf4",
   "metadata": {
    "execution": {
     "iopub.execute_input": "2022-08-30T03:15:18.729819Z",
     "iopub.status.busy": "2022-08-30T03:15:18.729363Z",
     "iopub.status.idle": "2022-08-30T03:15:18.732632Z",
     "shell.execute_reply": "2022-08-30T03:15:18.732228Z"
    },
    "papermill": {
     "duration": 0.045276,
     "end_time": "2022-08-30T03:15:18.734017",
     "exception": false,
     "start_time": "2022-08-30T03:15:18.688741",
     "status": "completed"
    },
    "tags": []
   },
   "outputs": [],
   "source": [
    "### **Variables**\n",
    "\n",
    "#### 1. X\n",
    "#### 2. Y\n",
    "#### 3. Z\n",
    "#### 4. Cluster ID\n",
    "\n"
   ]
  },
  {
   "cell_type": "code",
   "execution_count": 2,
   "id": "4fa122b2",
   "metadata": {
    "execution": {
     "iopub.execute_input": "2022-08-30T03:15:18.814684Z",
     "iopub.status.busy": "2022-08-30T03:15:18.814401Z",
     "iopub.status.idle": "2022-08-30T03:15:18.816955Z",
     "shell.execute_reply": "2022-08-30T03:15:18.816527Z"
    },
    "papermill": {
     "duration": 0.045433,
     "end_time": "2022-08-30T03:15:18.818258",
     "exception": false,
     "start_time": "2022-08-30T03:15:18.772825",
     "status": "completed"
    },
    "tags": []
   },
   "outputs": [],
   "source": [
    "### Objective:\n",
    "\n",
    "#### Reduce X,Y,Z column to two column (d1, d2) using dimensionality reduction techniques (you can use any known techniques) . "
   ]
  },
  {
   "cell_type": "code",
   "execution_count": 3,
   "id": "73222c4a",
   "metadata": {
    "execution": {
     "iopub.execute_input": "2022-08-30T03:15:18.898004Z",
     "iopub.status.busy": "2022-08-30T03:15:18.897628Z",
     "iopub.status.idle": "2022-08-30T03:15:21.497359Z",
     "shell.execute_reply": "2022-08-30T03:15:21.496700Z"
    },
    "papermill": {
     "duration": 2.641298,
     "end_time": "2022-08-30T03:15:21.499121",
     "exception": false,
     "start_time": "2022-08-30T03:15:18.857823",
     "status": "completed"
    },
    "tags": []
   },
   "outputs": [
    {
     "name": "stderr",
     "output_type": "stream",
     "text": [
      "/opt/conda/lib/python3.7/site-packages/geopandas/_compat.py:115: UserWarning: The Shapely GEOS version (3.9.1-CAPI-1.14.2) is incompatible with the GEOS version PyGEOS was compiled with (3.10.1-CAPI-1.16.0). Conversions between both will be slow.\n"
     ]
    }
   ],
   "source": [
    "import numpy as np\n",
    "import pandas as pd\n",
    "from plotnine import *\n",
    "import matplotlib.pyplot as plt\n",
    "import seaborn as sns\n",
    "from sklearn.preprocessing import MinMaxScaler\n",
    "from sklearn.cluster import KMeans, AgglomerativeClustering\n",
    "from sklearn.decomposition import PCA\n",
    "from sklearn.model_selection import cross_validate\n",
    "from scipy.stats import boxcox, shapiro, probplot\n",
    "from scipy.cluster.hierarchy import dendrogram, linkage\n",
    "import statsmodels.api as sm\n",
    "import warnings\n",
    "warnings.filterwarnings(\"ignore\", category=FutureWarning) "
   ]
  },
  {
   "cell_type": "markdown",
   "id": "de647de4",
   "metadata": {
    "execution": {
     "iopub.execute_input": "2022-05-01T22:07:59.423382Z",
     "iopub.status.busy": "2022-05-01T22:07:59.423049Z",
     "iopub.status.idle": "2022-05-01T22:07:59.429422Z",
     "shell.execute_reply": "2022-05-01T22:07:59.428262Z",
     "shell.execute_reply.started": "2022-05-01T22:07:59.423347Z"
    },
    "papermill": {
     "duration": 0.039329,
     "end_time": "2022-08-30T03:15:21.578320",
     "exception": false,
     "start_time": "2022-08-30T03:15:21.538991",
     "status": "completed"
    },
    "tags": []
   },
   "source": [
    "<h1><center><a id=\"2\"></a> <br> Data Preprocessing</center></h1>"
   ]
  },
  {
   "cell_type": "markdown",
   "id": "e34cddb3",
   "metadata": {
    "papermill": {
     "duration": 0.039369,
     "end_time": "2022-08-30T03:15:21.656231",
     "exception": false,
     "start_time": "2022-08-30T03:15:21.616862",
     "status": "completed"
    },
    "tags": []
   },
   "source": []
  },
  {
   "cell_type": "markdown",
   "id": "a92ec8e6",
   "metadata": {
    "papermill": {
     "duration": 0.038282,
     "end_time": "2022-08-30T03:15:21.733706",
     "exception": false,
     "start_time": "2022-08-30T03:15:21.695424",
     "status": "completed"
    },
    "tags": []
   },
   "source": [
    "Download the data"
   ]
  },
  {
   "cell_type": "code",
   "execution_count": 4,
   "id": "7dc26f89",
   "metadata": {
    "execution": {
     "iopub.execute_input": "2022-08-30T03:15:21.812821Z",
     "iopub.status.busy": "2022-08-30T03:15:21.812389Z",
     "iopub.status.idle": "2022-08-30T03:15:21.831207Z",
     "shell.execute_reply": "2022-08-30T03:15:21.830795Z"
    },
    "papermill": {
     "duration": 0.059719,
     "end_time": "2022-08-30T03:15:21.832552",
     "exception": false,
     "start_time": "2022-08-30T03:15:21.772833",
     "status": "completed"
    },
    "tags": []
   },
   "outputs": [],
   "source": [
    "df=pd.read_csv(\"../input/distance-dataset/distance_dataset.csv\")"
   ]
  },
  {
   "cell_type": "code",
   "execution_count": 5,
   "id": "1706e0da",
   "metadata": {
    "execution": {
     "iopub.execute_input": "2022-08-30T03:15:21.912438Z",
     "iopub.status.busy": "2022-08-30T03:15:21.911664Z",
     "iopub.status.idle": "2022-08-30T03:15:21.924852Z",
     "shell.execute_reply": "2022-08-30T03:15:21.924437Z"
    },
    "papermill": {
     "duration": 0.053955,
     "end_time": "2022-08-30T03:15:21.926159",
     "exception": false,
     "start_time": "2022-08-30T03:15:21.872204",
     "status": "completed"
    },
    "tags": []
   },
   "outputs": [
    {
     "data": {
      "text/html": [
       "<div>\n",
       "<style scoped>\n",
       "    .dataframe tbody tr th:only-of-type {\n",
       "        vertical-align: middle;\n",
       "    }\n",
       "\n",
       "    .dataframe tbody tr th {\n",
       "        vertical-align: top;\n",
       "    }\n",
       "\n",
       "    .dataframe thead th {\n",
       "        text-align: right;\n",
       "    }\n",
       "</style>\n",
       "<table border=\"1\" class=\"dataframe\">\n",
       "  <thead>\n",
       "    <tr style=\"text-align: right;\">\n",
       "      <th></th>\n",
       "      <th>Unnamed: 0</th>\n",
       "      <th>X</th>\n",
       "      <th>Y</th>\n",
       "      <th>Z</th>\n",
       "      <th>ClusterID</th>\n",
       "    </tr>\n",
       "  </thead>\n",
       "  <tbody>\n",
       "    <tr>\n",
       "      <th>0</th>\n",
       "      <td>0</td>\n",
       "      <td>5.135779</td>\n",
       "      <td>4.167542</td>\n",
       "      <td>5.787635</td>\n",
       "      <td>4</td>\n",
       "    </tr>\n",
       "    <tr>\n",
       "      <th>1</th>\n",
       "      <td>1</td>\n",
       "      <td>4.280721</td>\n",
       "      <td>5.770909</td>\n",
       "      <td>6.091044</td>\n",
       "      <td>4</td>\n",
       "    </tr>\n",
       "    <tr>\n",
       "      <th>2</th>\n",
       "      <td>2</td>\n",
       "      <td>8.329098</td>\n",
       "      <td>7.540436</td>\n",
       "      <td>3.247239</td>\n",
       "      <td>2</td>\n",
       "    </tr>\n",
       "    <tr>\n",
       "      <th>3</th>\n",
       "      <td>3</td>\n",
       "      <td>5.470224</td>\n",
       "      <td>5.069249</td>\n",
       "      <td>5.768313</td>\n",
       "      <td>4</td>\n",
       "    </tr>\n",
       "    <tr>\n",
       "      <th>4</th>\n",
       "      <td>4</td>\n",
       "      <td>2.381797</td>\n",
       "      <td>2.402374</td>\n",
       "      <td>3.879101</td>\n",
       "      <td>1</td>\n",
       "    </tr>\n",
       "  </tbody>\n",
       "</table>\n",
       "</div>"
      ],
      "text/plain": [
       "   Unnamed: 0         X         Y         Z  ClusterID\n",
       "0           0  5.135779  4.167542  5.787635          4\n",
       "1           1  4.280721  5.770909  6.091044          4\n",
       "2           2  8.329098  7.540436  3.247239          2\n",
       "3           3  5.470224  5.069249  5.768313          4\n",
       "4           4  2.381797  2.402374  3.879101          1"
      ]
     },
     "execution_count": 5,
     "metadata": {},
     "output_type": "execute_result"
    }
   ],
   "source": [
    "df.head()"
   ]
  },
  {
   "cell_type": "code",
   "execution_count": 6,
   "id": "e01d9f99",
   "metadata": {
    "execution": {
     "iopub.execute_input": "2022-08-30T03:15:22.007308Z",
     "iopub.status.busy": "2022-08-30T03:15:22.006941Z",
     "iopub.status.idle": "2022-08-30T03:15:22.012534Z",
     "shell.execute_reply": "2022-08-30T03:15:22.011818Z"
    },
    "papermill": {
     "duration": 0.047622,
     "end_time": "2022-08-30T03:15:22.013913",
     "exception": false,
     "start_time": "2022-08-30T03:15:21.966291",
     "status": "completed"
    },
    "tags": []
   },
   "outputs": [
    {
     "data": {
      "text/plain": [
       "Unnamed: 0    0\n",
       "X             0\n",
       "Y             0\n",
       "Z             0\n",
       "ClusterID     0\n",
       "dtype: int64"
      ]
     },
     "execution_count": 6,
     "metadata": {},
     "output_type": "execute_result"
    }
   ],
   "source": [
    "#Checking for nulls\n",
    "\n",
    "df.isnull().sum()"
   ]
  },
  {
   "cell_type": "code",
   "execution_count": 7,
   "id": "3a5b9dab",
   "metadata": {
    "execution": {
     "iopub.execute_input": "2022-08-30T03:15:22.095507Z",
     "iopub.status.busy": "2022-08-30T03:15:22.095200Z",
     "iopub.status.idle": "2022-08-30T03:15:22.112376Z",
     "shell.execute_reply": "2022-08-30T03:15:22.111703Z"
    },
    "papermill": {
     "duration": 0.060011,
     "end_time": "2022-08-30T03:15:22.114181",
     "exception": false,
     "start_time": "2022-08-30T03:15:22.054170",
     "status": "completed"
    },
    "tags": []
   },
   "outputs": [
    {
     "name": "stdout",
     "output_type": "stream",
     "text": [
      "<class 'pandas.core.frame.DataFrame'>\n",
      "RangeIndex: 2000 entries, 0 to 1999\n",
      "Data columns (total 5 columns):\n",
      " #   Column      Non-Null Count  Dtype  \n",
      "---  ------      --------------  -----  \n",
      " 0   Unnamed: 0  2000 non-null   int64  \n",
      " 1   X           2000 non-null   float64\n",
      " 2   Y           2000 non-null   float64\n",
      " 3   Z           2000 non-null   float64\n",
      " 4   ClusterID   2000 non-null   int64  \n",
      "dtypes: float64(3), int64(2)\n",
      "memory usage: 78.2 KB\n"
     ]
    }
   ],
   "source": [
    "#No nulls -great\n",
    "\n",
    "#Checking for data types\n",
    "\n",
    "df.info()\n"
   ]
  },
  {
   "cell_type": "code",
   "execution_count": 8,
   "id": "c8d3aa4d",
   "metadata": {
    "execution": {
     "iopub.execute_input": "2022-08-30T03:15:22.212168Z",
     "iopub.status.busy": "2022-08-30T03:15:22.211736Z",
     "iopub.status.idle": "2022-08-30T03:15:22.235468Z",
     "shell.execute_reply": "2022-08-30T03:15:22.234843Z"
    },
    "papermill": {
     "duration": 0.075896,
     "end_time": "2022-08-30T03:15:22.236955",
     "exception": false,
     "start_time": "2022-08-30T03:15:22.161059",
     "status": "completed"
    },
    "tags": []
   },
   "outputs": [
    {
     "data": {
      "text/html": [
       "<div>\n",
       "<style scoped>\n",
       "    .dataframe tbody tr th:only-of-type {\n",
       "        vertical-align: middle;\n",
       "    }\n",
       "\n",
       "    .dataframe tbody tr th {\n",
       "        vertical-align: top;\n",
       "    }\n",
       "\n",
       "    .dataframe thead th {\n",
       "        text-align: right;\n",
       "    }\n",
       "</style>\n",
       "<table border=\"1\" class=\"dataframe\">\n",
       "  <thead>\n",
       "    <tr style=\"text-align: right;\">\n",
       "      <th></th>\n",
       "      <th>Unnamed: 0</th>\n",
       "      <th>X</th>\n",
       "      <th>Y</th>\n",
       "      <th>Z</th>\n",
       "      <th>ClusterID</th>\n",
       "    </tr>\n",
       "  </thead>\n",
       "  <tbody>\n",
       "    <tr>\n",
       "      <th>count</th>\n",
       "      <td>2000.000000</td>\n",
       "      <td>2000.000000</td>\n",
       "      <td>2000.000000</td>\n",
       "      <td>2000.000000</td>\n",
       "      <td>2000.000000</td>\n",
       "    </tr>\n",
       "    <tr>\n",
       "      <th>mean</th>\n",
       "      <td>999.500000</td>\n",
       "      <td>5.002561</td>\n",
       "      <td>5.032657</td>\n",
       "      <td>5.017639</td>\n",
       "      <td>3.000000</td>\n",
       "    </tr>\n",
       "    <tr>\n",
       "      <th>std</th>\n",
       "      <td>577.494589</td>\n",
       "      <td>1.935367</td>\n",
       "      <td>1.956047</td>\n",
       "      <td>1.957894</td>\n",
       "      <td>1.414567</td>\n",
       "    </tr>\n",
       "    <tr>\n",
       "      <th>min</th>\n",
       "      <td>0.000000</td>\n",
       "      <td>1.170533</td>\n",
       "      <td>1.350509</td>\n",
       "      <td>1.015867</td>\n",
       "      <td>1.000000</td>\n",
       "    </tr>\n",
       "    <tr>\n",
       "      <th>25%</th>\n",
       "      <td>499.750000</td>\n",
       "      <td>4.544975</td>\n",
       "      <td>3.704038</td>\n",
       "      <td>3.790899</td>\n",
       "      <td>2.000000</td>\n",
       "    </tr>\n",
       "    <tr>\n",
       "      <th>50%</th>\n",
       "      <td>999.500000</td>\n",
       "      <td>4.998504</td>\n",
       "      <td>5.081169</td>\n",
       "      <td>5.015852</td>\n",
       "      <td>3.000000</td>\n",
       "    </tr>\n",
       "    <tr>\n",
       "      <th>75%</th>\n",
       "      <td>1499.250000</td>\n",
       "      <td>5.457089</td>\n",
       "      <td>6.348823</td>\n",
       "      <td>6.345780</td>\n",
       "      <td>4.000000</td>\n",
       "    </tr>\n",
       "    <tr>\n",
       "      <th>max</th>\n",
       "      <td>1999.000000</td>\n",
       "      <td>8.983353</td>\n",
       "      <td>8.343726</td>\n",
       "      <td>8.600705</td>\n",
       "      <td>5.000000</td>\n",
       "    </tr>\n",
       "  </tbody>\n",
       "</table>\n",
       "</div>"
      ],
      "text/plain": [
       "        Unnamed: 0            X            Y            Z    ClusterID\n",
       "count  2000.000000  2000.000000  2000.000000  2000.000000  2000.000000\n",
       "mean    999.500000     5.002561     5.032657     5.017639     3.000000\n",
       "std     577.494589     1.935367     1.956047     1.957894     1.414567\n",
       "min       0.000000     1.170533     1.350509     1.015867     1.000000\n",
       "25%     499.750000     4.544975     3.704038     3.790899     2.000000\n",
       "50%     999.500000     4.998504     5.081169     5.015852     3.000000\n",
       "75%    1499.250000     5.457089     6.348823     6.345780     4.000000\n",
       "max    1999.000000     8.983353     8.343726     8.600705     5.000000"
      ]
     },
     "execution_count": 8,
     "metadata": {},
     "output_type": "execute_result"
    }
   ],
   "source": [
    "#Statistical summary\n",
    "\n",
    "df.describe()"
   ]
  },
  {
   "cell_type": "markdown",
   "id": "096ef3c0",
   "metadata": {
    "papermill": {
     "duration": 0.040862,
     "end_time": "2022-08-30T03:15:22.320216",
     "exception": false,
     "start_time": "2022-08-30T03:15:22.279354",
     "status": "completed"
    },
    "tags": []
   },
   "source": [
    "##We can clearly see that the data is not scaled and not normally distributed. We will examine thus further ahead."
   ]
  },
  {
   "cell_type": "code",
   "execution_count": 9,
   "id": "e440aa0b",
   "metadata": {
    "execution": {
     "iopub.execute_input": "2022-08-30T03:15:22.404976Z",
     "iopub.status.busy": "2022-08-30T03:15:22.404524Z",
     "iopub.status.idle": "2022-08-30T03:15:22.413356Z",
     "shell.execute_reply": "2022-08-30T03:15:22.412826Z"
    },
    "papermill": {
     "duration": 0.052612,
     "end_time": "2022-08-30T03:15:22.414720",
     "exception": false,
     "start_time": "2022-08-30T03:15:22.362108",
     "status": "completed"
    },
    "tags": []
   },
   "outputs": [
    {
     "data": {
      "text/plain": [
       "5.135779    1\n",
       "8.245059    1\n",
       "4.727276    1\n",
       "1.399891    1\n",
       "4.991283    1\n",
       "           ..\n",
       "7.943488    1\n",
       "4.667757    1\n",
       "7.761033    1\n",
       "7.876075    1\n",
       "4.955436    1\n",
       "Name: X, Length: 2000, dtype: int64"
      ]
     },
     "execution_count": 9,
     "metadata": {},
     "output_type": "execute_result"
    }
   ],
   "source": [
    "#Let´s convert the categorical variables to meaningful data\n",
    "\n",
    "df.X.value_counts()"
   ]
  },
  {
   "cell_type": "code",
   "execution_count": 10,
   "id": "819a884e",
   "metadata": {
    "execution": {
     "iopub.execute_input": "2022-08-30T03:15:22.498075Z",
     "iopub.status.busy": "2022-08-30T03:15:22.497343Z",
     "iopub.status.idle": "2022-08-30T03:15:22.503097Z",
     "shell.execute_reply": "2022-08-30T03:15:22.502562Z"
    },
    "papermill": {
     "duration": 0.048768,
     "end_time": "2022-08-30T03:15:22.504494",
     "exception": false,
     "start_time": "2022-08-30T03:15:22.455726",
     "status": "completed"
    },
    "tags": []
   },
   "outputs": [],
   "source": [
    "df.X=df.X.map({3:'Other',2:'Lisbon',1:'Oporto'})"
   ]
  },
  {
   "cell_type": "code",
   "execution_count": 11,
   "id": "4d8e19ba",
   "metadata": {
    "execution": {
     "iopub.execute_input": "2022-08-30T03:15:22.590237Z",
     "iopub.status.busy": "2022-08-30T03:15:22.589720Z",
     "iopub.status.idle": "2022-08-30T03:15:22.595641Z",
     "shell.execute_reply": "2022-08-30T03:15:22.595251Z"
    },
    "papermill": {
     "duration": 0.049954,
     "end_time": "2022-08-30T03:15:22.596912",
     "exception": false,
     "start_time": "2022-08-30T03:15:22.546958",
     "status": "completed"
    },
    "tags": []
   },
   "outputs": [
    {
     "data": {
      "text/plain": [
       "4.167542    1\n",
       "8.023461    1\n",
       "4.903130    1\n",
       "2.613503    1\n",
       "5.895358    1\n",
       "           ..\n",
       "7.822768    1\n",
       "5.740336    1\n",
       "7.902345    1\n",
       "7.915457    1\n",
       "5.270550    1\n",
       "Name: Y, Length: 2000, dtype: int64"
      ]
     },
     "execution_count": 11,
     "metadata": {},
     "output_type": "execute_result"
    }
   ],
   "source": [
    "df.Y.value_counts()"
   ]
  },
  {
   "cell_type": "code",
   "execution_count": 12,
   "id": "764d4975",
   "metadata": {
    "execution": {
     "iopub.execute_input": "2022-08-30T03:15:22.682162Z",
     "iopub.status.busy": "2022-08-30T03:15:22.681783Z",
     "iopub.status.idle": "2022-08-30T03:15:22.685750Z",
     "shell.execute_reply": "2022-08-30T03:15:22.685363Z"
    },
    "papermill": {
     "duration": 0.048381,
     "end_time": "2022-08-30T03:15:22.687079",
     "exception": false,
     "start_time": "2022-08-30T03:15:22.638698",
     "status": "completed"
    },
    "tags": []
   },
   "outputs": [],
   "source": [
    "df.Y=df.Y.map({1:'Horeca',2:'Retail'})"
   ]
  },
  {
   "cell_type": "code",
   "execution_count": 13,
   "id": "0b366253",
   "metadata": {
    "execution": {
     "iopub.execute_input": "2022-08-30T03:15:22.771028Z",
     "iopub.status.busy": "2022-08-30T03:15:22.770680Z",
     "iopub.status.idle": "2022-08-30T03:15:23.304332Z",
     "shell.execute_reply": "2022-08-30T03:15:23.303490Z"
    },
    "papermill": {
     "duration": 0.577726,
     "end_time": "2022-08-30T03:15:23.306496",
     "exception": false,
     "start_time": "2022-08-30T03:15:22.728770",
     "status": "completed"
    },
    "tags": []
   },
   "outputs": [
    {
     "data": {
      "image/png": "[encoded data removed]",
      "text/plain": [
       "<Figure size 1440x720 with 4 Axes>"
      ]
     },
     "metadata": {
      "needs_background": "light"
     },
     "output_type": "display_data"
    }
   ],
   "source": [
    "#Distribution of numeric variables\n",
    "\n",
    "df.hist(figsize=(20,10),bins=30, color='lightblue', edgecolor='black')\n",
    "plt.show()"
   ]
  },
  {
   "cell_type": "code",
   "execution_count": 14,
   "id": "cff2b7a3",
   "metadata": {
    "execution": {
     "iopub.execute_input": "2022-08-30T03:15:23.390866Z",
     "iopub.status.busy": "2022-08-30T03:15:23.390530Z",
     "iopub.status.idle": "2022-08-30T03:15:23.392981Z",
     "shell.execute_reply": "2022-08-30T03:15:23.392583Z"
    },
    "papermill": {
     "duration": 0.046248,
     "end_time": "2022-08-30T03:15:23.394256",
     "exception": false,
     "start_time": "2022-08-30T03:15:23.348008",
     "status": "completed"
    },
    "tags": []
   },
   "outputs": [],
   "source": [
    "##susceptible to influential outlying values - they can strongly bias the centroids estimation. \n",
    "##In a situation like ##this K-Medians might be advisable. However data might be transformed also. \n",
    "##Here we will deploy the Box-Cox method. It ##can be implemented via ScikitLearn PowerTransformer() \n",
    "##function or with the help of box-cox from Scipy Stats library. ##We will choose the second option."
   ]
  },
  {
   "cell_type": "code",
   "execution_count": 1,
   "id": "6ba47b2c",
   "metadata": {
    "execution": {
     "iopub.execute_input": "2022-08-30T03:15:23.478759Z",
     "iopub.status.busy": "2022-08-30T03:15:23.478521Z",
     "iopub.status.idle": "2022-08-30T03:15:23.610921Z",
     "shell.execute_reply": "2022-08-30T03:15:23.610069Z"
    },
    "papermill": {
     "duration": 0.176552,
     "end_time": "2022-08-30T03:15:23.612563",
     "exception": true,
     "start_time": "2022-08-30T03:15:23.436011",
     "status": "failed"
    },
    "tags": []
   },
   "outputs": [
    {
     "ename": "NameError",
     "evalue": "name 'df' is not defined",
     "output_type": "error",
     "traceback": [
      "\u001b[1;31m---------------------------------------------------------------------------\u001b[0m",
      "\u001b[1;31mNameError\u001b[0m                                 Traceback (most recent call last)",
      "\u001b[1;32m~\\AppData\\Local\\Temp/ipykernel_19000/4064353019.py\u001b[0m in \u001b[0;36m<module>\u001b[1;34m\u001b[0m\n\u001b[0;32m      1\u001b[0m \u001b[1;31m#Now the data resembles more the normal distribution\u001b[0m\u001b[1;33m\u001b[0m\u001b[1;33m\u001b[0m\u001b[0m\n\u001b[0;32m      2\u001b[0m \u001b[1;33m\u001b[0m\u001b[0m\n\u001b[1;32m----> 3\u001b[1;33m \u001b[0mdf\u001b[0m\u001b[1;33m.\u001b[0m\u001b[0mhist\u001b[0m\u001b[1;33m(\u001b[0m\u001b[0mfigsize\u001b[0m\u001b[1;33m=\u001b[0m\u001b[1;33m(\u001b[0m\u001b[1;36m20\u001b[0m\u001b[1;33m,\u001b[0m\u001b[1;36m10\u001b[0m\u001b[1;33m)\u001b[0m\u001b[1;33m,\u001b[0m\u001b[0mbins\u001b[0m\u001b[1;33m=\u001b[0m\u001b[1;36m30\u001b[0m\u001b[1;33m,\u001b[0m \u001b[0mcolor\u001b[0m\u001b[1;33m=\u001b[0m\u001b[1;34m'lightblue'\u001b[0m\u001b[1;33m,\u001b[0m \u001b[0medgecolor\u001b[0m\u001b[1;33m=\u001b[0m\u001b[1;34m'black'\u001b[0m\u001b[1;33m)\u001b[0m\u001b[1;33m\u001b[0m\u001b[1;33m\u001b[0m\u001b[0m\n\u001b[0m\u001b[0;32m      4\u001b[0m \u001b[0mplt\u001b[0m\u001b[1;33m.\u001b[0m\u001b[0mshow\u001b[0m\u001b[1;33m(\u001b[0m\u001b[1;33m)\u001b[0m\u001b[1;33m\u001b[0m\u001b[1;33m\u001b[0m\u001b[0m\n",
      "\u001b[1;31mNameError\u001b[0m: name 'df' is not defined"
     ]
    }
   ],
   "source": [
    "#Now the data resembles more the normal distribution\n",
    "\n",
    "df.hist(figsize=(20,10),bins=30, color='lightblue', edgecolor='black')\n",
    "plt.show()"
   ]
  },
  {
   "cell_type": "code",
   "execution_count": null,
   "id": "07154707",
   "metadata": {
    "papermill": {
     "duration": null,
     "end_time": null,
     "exception": null,
     "start_time": null,
     "status": "pending"
    },
    "tags": []
   },
   "outputs": [],
   "source": [
    "##Also we need to scale the data so the distance analysis across dimensions won't be biased. KMeans performs the \n",
    "##analysis on the same scale between variables and therefore unscaled data will lead to biased learning. \n",
    " "
   ]
  },
  {
   "cell_type": "code",
   "execution_count": null,
   "id": "0f33bd72",
   "metadata": {
    "execution": {
     "iopub.execute_input": "2022-08-26T14:28:59.153804Z",
     "iopub.status.busy": "2022-08-26T14:28:59.153296Z",
     "iopub.status.idle": "2022-08-26T14:28:59.296414Z",
     "shell.execute_reply": "2022-08-26T14:28:59.295745Z",
     "shell.execute_reply.started": "2022-08-26T14:28:59.153765Z"
    },
    "papermill": {
     "duration": null,
     "end_time": null,
     "exception": null,
     "start_time": null,
     "status": "pending"
    },
    "tags": []
   },
   "outputs": [],
   "source": [
    "norm=data.iloc[:,2:] #Numerical data\n",
    "\n",
    "scaler=MinMaxScaler()\n",
    "columns=data.columns[2:]\n",
    "norm=scaler.fit_transform(data.iloc[:,2:]) #Only numeric variables\n",
    "norm=pd.DataFrame(norm, columns=columns)\n",
    "\n",
    "plt.figure(figsize=(10,7))\n",
    "sns.boxplot(data=norm)\n",
    "plt.show()"
   ]
  },
  {
   "cell_type": "code",
   "execution_count": null,
   "id": "37d4ca87",
   "metadata": {
    "_kg_hide-output": true,
    "papermill": {
     "duration": null,
     "end_time": null,
     "exception": null,
     "start_time": null,
     "status": "pending"
    },
    "tags": []
   },
   "outputs": [],
   "source": [
    "##As already mentioned may negatively affect the calculation of cluster centers as individual outliers may have a \n",
    "##lot of weight in determing cluster means. Therefore we will move the outliers to 1.5 of Interquartile range \n",
    "##from 1st or 3rd quartile."
   ]
  },
  {
   "cell_type": "code",
   "execution_count": null,
   "id": "0a7522f2",
   "metadata": {
    "execution": {
     "iopub.execute_input": "2022-08-26T14:29:32.445833Z",
     "iopub.status.busy": "2022-08-26T14:29:32.445520Z",
     "iopub.status.idle": "2022-08-26T14:29:32.459737Z",
     "shell.execute_reply": "2022-08-26T14:29:32.458905Z",
     "shell.execute_reply.started": "2022-08-26T14:29:32.445797Z"
    },
    "papermill": {
     "duration": null,
     "end_time": null,
     "exception": null,
     "start_time": null,
     "status": "pending"
    },
    "tags": []
   },
   "outputs": [],
   "source": [
    "for i in norm.columns:\n",
    "    iqr=np.percentile(norm[i], 75)-np.percentile(norm[i], 25)\n",
    "    per75=np.percentile(norm[i], 75)\n",
    "    per25=np.percentile(norm[i], 25)\n",
    "    norm[i]=np.where(norm[i]>per75+1.5*iqr, per75+1.5*iqr,norm[i] )\n",
    "    norm[i]=np.where(norm[i]<per25-1.5*iqr, per25-1.5*iqr,norm[i] )"
   ]
  },
  {
   "cell_type": "code",
   "execution_count": null,
   "id": "d16a61c2",
   "metadata": {
    "execution": {
     "iopub.execute_input": "2022-08-26T14:29:36.662472Z",
     "iopub.status.busy": "2022-08-26T14:29:36.661627Z",
     "iopub.status.idle": "2022-08-26T14:29:36.874933Z",
     "shell.execute_reply": "2022-08-26T14:29:36.874048Z",
     "shell.execute_reply.started": "2022-08-26T14:29:36.662433Z"
    },
    "papermill": {
     "duration": null,
     "end_time": null,
     "exception": null,
     "start_time": null,
     "status": "pending"
    },
    "tags": []
   },
   "outputs": [],
   "source": [
    "#Now we don´t have outliers\n",
    "\n",
    "plt.figure(figsize=(15,10))\n",
    "sns.boxplot(data=norm)\n",
    "plt.show()"
   ]
  },
  {
   "cell_type": "code",
   "execution_count": null,
   "id": "6684b9ce",
   "metadata": {
    "execution": {
     "iopub.execute_input": "2022-08-26T14:29:44.839701Z",
     "iopub.status.busy": "2022-08-26T14:29:44.838581Z",
     "iopub.status.idle": "2022-08-26T14:29:44.859543Z",
     "shell.execute_reply": "2022-08-26T14:29:44.858826Z",
     "shell.execute_reply.started": "2022-08-26T14:29:44.839639Z"
    },
    "papermill": {
     "duration": null,
     "end_time": null,
     "exception": null,
     "start_time": null,
     "status": "pending"
    },
    "tags": []
   },
   "outputs": [],
   "source": [
    "#Let´s also check for normality of the numeric variables now. However it is not a required assumptions \n",
    "#of KMeans but can produce better results. Shapiro Wilks test may be employed. \n",
    "#The null hypothesis is that the data is normal.\n",
    "\n",
    "\n",
    "\n",
    "normality=pd.DataFrame(index=['p-value', 'test-statistic'])\n",
    "for i in norm.columns:\n",
    "    normality[i]=shapiro(norm[i])\n",
    "    \n",
    "normality.T    "
   ]
  },
  {
   "cell_type": "code",
   "execution_count": null,
   "id": "af95454e",
   "metadata": {
    "execution": {
     "iopub.execute_input": "2022-08-26T14:29:53.120695Z",
     "iopub.status.busy": "2022-08-26T14:29:53.120385Z",
     "iopub.status.idle": "2022-08-26T14:29:53.559983Z",
     "shell.execute_reply": "2022-08-26T14:29:53.559123Z",
     "shell.execute_reply.started": "2022-08-26T14:29:53.120659Z"
    },
    "papermill": {
     "duration": null,
     "end_time": null,
     "exception": null,
     "start_time": null,
     "status": "pending"
    },
    "tags": []
   },
   "outputs": [],
   "source": [
    "#We can also plot the normality via que quantile quantile plots from scipy statistical library.\n",
    "\n",
    "plt.figure(figsize=(15,15))\n",
    "for i,var in enumerate(norm.columns):\n",
    "    plt.subplot(3,3,i+1)\n",
    "    probplot(norm[var], plot=plt)\n",
    "    plt.title(f'{var}')\n",
    "plt.show()    "
   ]
  },
  {
   "cell_type": "code",
   "execution_count": null,
   "id": "024cafec",
   "metadata": {
    "_kg_hide-input": true,
    "papermill": {
     "duration": null,
     "end_time": null,
     "exception": null,
     "start_time": null,
     "status": "pending"
    },
    "tags": []
   },
   "outputs": [],
   "source": [
    "##We can see that the data is not normally distributed. Additionally, we have two categorical variables, \n",
    "##Region and Channel that have to be recoded (One Hot Encoding) for further analysis as not to cause incorrect \n",
    "##distance estimations in distance/based algorithms. KMeans may be not stable while working on a mix of numerical \n",
    "##and categorical data. How we define distance between the values in the Region variable? The right way in my opinion \n",
    "##will be Hot Encoding"
   ]
  },
  {
   "cell_type": "code",
   "execution_count": null,
   "id": "05f5b91d",
   "metadata": {
    "execution": {
     "iopub.execute_input": "2022-08-26T14:31:12.645362Z",
     "iopub.status.busy": "2022-08-26T14:31:12.645001Z",
     "iopub.status.idle": "2022-08-26T14:31:12.687113Z",
     "shell.execute_reply": "2022-08-26T14:31:12.686420Z",
     "shell.execute_reply.started": "2022-08-26T14:31:12.645321Z"
    },
    "papermill": {
     "duration": null,
     "end_time": null,
     "exception": null,
     "start_time": null,
     "status": "pending"
    },
    "tags": []
   },
   "outputs": [],
   "source": [
    "data=pd.get_dummies(data=df, columns= ['X','Z'], drop_first=True)\n",
    "\n",
    "#Uniting our categorical dummified variables with numerical normalized data.\n",
    "\n"
   ]
  },
  {
   "cell_type": "markdown",
   "id": "447b0c49",
   "metadata": {
    "execution": {
     "iopub.execute_input": "2022-05-01T22:57:43.829512Z",
     "iopub.status.busy": "2022-05-01T22:57:43.829221Z",
     "iopub.status.idle": "2022-05-01T22:57:43.850312Z",
     "shell.execute_reply": "2022-05-01T22:57:43.849349Z",
     "shell.execute_reply.started": "2022-05-01T22:57:43.829482Z"
    },
    "papermill": {
     "duration": null,
     "end_time": null,
     "exception": null,
     "start_time": null,
     "status": "pending"
    },
    "tags": []
   },
   "source": [
    "<h1><center><a id=\"3\"></a> <br>Modelling and Analysis</center></h1>"
   ]
  },
  {
   "cell_type": "code",
   "execution_count": null,
   "id": "37cf8a2f",
   "metadata": {
    "papermill": {
     "duration": null,
     "end_time": null,
     "exception": null,
     "start_time": null,
     "status": "pending"
    },
    "tags": []
   },
   "outputs": [],
   "source": [
    "##We are ready to perform the KMeans. However how many clusters should we choose? We have to determine the best number \n",
    "##of clusters. This can be done using \"elbow trick\". We will calculate WSS - Within Sum \n",
    "##of Squares (of the distances inside the cluster) for each option of number of clusters while the goal is \n",
    "##find a number of clusters which minimizes considerably the WSS. We will examine WSS between 2 and 10 clusters. "
   ]
  },
  {
   "cell_type": "code",
   "execution_count": null,
   "id": "4af72ba8",
   "metadata": {
    "execution": {
     "iopub.execute_input": "2022-08-26T14:35:46.817701Z",
     "iopub.status.busy": "2022-08-26T14:35:46.817425Z",
     "iopub.status.idle": "2022-08-26T14:35:46.823404Z",
     "shell.execute_reply": "2022-08-26T14:35:46.822352Z",
     "shell.execute_reply.started": "2022-08-26T14:35:46.817672Z"
    },
    "papermill": {
     "duration": null,
     "end_time": null,
     "exception": null,
     "start_time": null,
     "status": "pending"
    },
    "tags": []
   },
   "outputs": [],
   "source": [
    "elbow_results=[]\n",
    "for i in range(3,2):\n",
    "    kmeans=KMeans(init='k-means++' , n_clusters=i, random_state=0)\n",
    "    results=cross_validate(kmeans, data, cv=5)\n",
    "    elbow_results.append(results['test_score'].mean()*-1)"
   ]
  },
  {
   "cell_type": "code",
   "execution_count": null,
   "id": "92c0195d",
   "metadata": {
    "execution": {
     "iopub.execute_input": "2022-08-26T14:35:51.545790Z",
     "iopub.status.busy": "2022-08-26T14:35:51.545505Z",
     "iopub.status.idle": "2022-08-26T14:35:51.743527Z",
     "shell.execute_reply": "2022-08-26T14:35:51.742606Z",
     "shell.execute_reply.started": "2022-08-26T14:35:51.545759Z"
    },
    "papermill": {
     "duration": null,
     "end_time": null,
     "exception": null,
     "start_time": null,
     "status": "pending"
    },
    "tags": []
   },
   "outputs": [],
   "source": [
    "\n",
    "plt.plot(range(2,len(elbow_results)+2) , elbow_results)\n",
    "plt.title('WSS - Elbow number of clusters test')\n",
    "plt.xlabel('Number of Clusters')\n",
    "plt.ylabel('Within Clusters Sum of Squares')\n",
    "plt.show()"
   ]
  },
  {
   "cell_type": "code",
   "execution_count": null,
   "id": "1c3915c1",
   "metadata": {
    "papermill": {
     "duration": null,
     "end_time": null,
     "exception": null,
     "start_time": null,
     "status": "pending"
    },
    "tags": []
   },
   "outputs": [],
   "source": [
    "##Plotting the elbow we can see that it's formed at value 3 on the X-axis. It means that having 3 clusters will \n",
    "##obtain the greatest proportional change in minimizing the WSS. However also number 6 presents a viable option as \n",
    "##there is a considerable change in sum of distances between 5 and 6 clusters. Adding more clusters will lower the \n",
    "##WSS but not at such considerable rate as the change between 2 and 3 clusters or between 5 or 6. Speaking in other \n",
    "##words, we are looking for the smallest angle formed by the line on the plot. Now we will try to run the algorithm \n",
    "##to group  3 clusters."
   ]
  },
  {
   "cell_type": "markdown",
   "id": "6fa3137a",
   "metadata": {
    "papermill": {
     "duration": null,
     "end_time": null,
     "exception": null,
     "start_time": null,
     "status": "pending"
    },
    "tags": []
   },
   "source": [
    "Let's visualize the clusters via pairs of variables. To do that more efficiently we need to reduce the dimensionality , so we will deploy PCA (Principal Components Analysis). First Let´s determine the best number of components to use in order to capture at least 90% of the variability of the data"
   ]
  },
  {
   "cell_type": "code",
   "execution_count": null,
   "id": "54dba73a",
   "metadata": {
    "execution": {
     "iopub.execute_input": "2022-08-26T14:52:35.516901Z",
     "iopub.status.busy": "2022-08-26T14:52:35.516589Z",
     "iopub.status.idle": "2022-08-26T14:52:35.541606Z",
     "shell.execute_reply": "2022-08-26T14:52:35.540794Z",
     "shell.execute_reply.started": "2022-08-26T14:52:35.516865Z"
    },
    "papermill": {
     "duration": null,
     "end_time": null,
     "exception": null,
     "start_time": null,
     "status": "pending"
    },
    "tags": []
   },
   "outputs": [],
   "source": [
    "pca=PCA(n_components=len(df.columns)-1)\n",
    "\n",
    "pca.fit(df.iloc[:,:-1])\n",
    "\n",
    "pca.explained_variance_ratio_"
   ]
  },
  {
   "cell_type": "code",
   "execution_count": null,
   "id": "655e5c9b",
   "metadata": {
    "execution": {
     "iopub.execute_input": "2022-08-26T14:54:56.518443Z",
     "iopub.status.busy": "2022-08-26T14:54:56.518130Z",
     "iopub.status.idle": "2022-08-26T14:54:56.760304Z",
     "shell.execute_reply": "2022-08-26T14:54:56.759456Z",
     "shell.execute_reply.started": "2022-08-26T14:54:56.518408Z"
    },
    "papermill": {
     "duration": null,
     "end_time": null,
     "exception": null,
     "start_time": null,
     "status": "pending"
    },
    "tags": []
   },
   "outputs": [],
   "source": [
    "plt.figure(figsize=(10,5))\n",
    "\n",
    "plt.bar(range(1,2), height=np.cumsum(pca.explained_variance_ratio_), label='Cumulative Explained Variance')\n",
    "plt.axhline(y=0.9, c='g', label='Cutoff')\n",
    "plt.title('Explained variance in PCA')\n",
    "plt.xticks(range(1,10))\n",
    "plt.legend(loc=1)\n",
    "plt.show()"
   ]
  },
  {
   "cell_type": "code",
   "execution_count": null,
   "id": "9ff688ad",
   "metadata": {
    "papermill": {
     "duration": null,
     "end_time": null,
     "exception": null,
     "start_time": null,
     "status": "pending"
    },
    "tags": []
   },
   "outputs": [],
   "source": [
    "##We can see that 90% of explained variability reached when we use 4 components. Therefore we will implement \n",
    "##dimensionality reduction to 4 components"
   ]
  },
  {
   "cell_type": "code",
   "execution_count": null,
   "id": "c18f1358",
   "metadata": {
    "execution": {
     "iopub.execute_input": "2022-08-26T14:59:02.024071Z",
     "iopub.status.busy": "2022-08-26T14:59:02.023787Z",
     "iopub.status.idle": "2022-08-26T14:59:02.076231Z",
     "shell.execute_reply": "2022-08-26T14:59:02.074647Z",
     "shell.execute_reply.started": "2022-08-26T14:59:02.024040Z"
    },
    "papermill": {
     "duration": null,
     "end_time": null,
     "exception": null,
     "start_time": null,
     "status": "pending"
    },
    "tags": []
   },
   "outputs": [],
   "source": [
    "pca=PCA(n_components=2)\n",
    "reduced=pca.fit_transform(df.iloc[:,:-1])\n",
    "\n",
    "reduced=pd.dataFrame(np.column_stack([reduced, df.clusters]), columns=['X','Y'])\n",
    "\n",
    "sns.pairplot(reduced, hue='Cluster', diag_kind=None, vars=reduced.columns[0:-1], palette='Set1')\n",
    "plt.show()"
   ]
  },
  {
   "cell_type": "code",
   "execution_count": null,
   "id": "5c9472ce",
   "metadata": {
    "papermill": {
     "duration": null,
     "end_time": null,
     "exception": null,
     "start_time": null,
     "status": "pending"
    },
    "tags": []
   },
   "outputs": [],
   "source": []
  },
  {
   "cell_type": "code",
   "execution_count": null,
   "id": "57a58bbe",
   "metadata": {
    "papermill": {
     "duration": null,
     "end_time": null,
     "exception": null,
     "start_time": null,
     "status": "pending"
    },
    "tags": []
   },
   "outputs": [],
   "source": [
    "##It´s difficult to grasp the clusters like that. Let´s perform a component reduction to two variables."
   ]
  },
  {
   "cell_type": "code",
   "execution_count": null,
   "id": "475e923c",
   "metadata": {
    "execution": {
     "iopub.execute_input": "2022-07-03T10:32:52.736039Z",
     "iopub.status.busy": "2022-07-03T10:32:52.735256Z",
     "iopub.status.idle": "2022-07-03T10:32:53.059513Z",
     "shell.execute_reply": "2022-07-03T10:32:53.058835Z"
    },
    "papermill": {
     "duration": null,
     "end_time": null,
     "exception": null,
     "start_time": null,
     "status": "pending"
    },
    "tags": []
   },
   "outputs": [],
   "source": [
    "pca=PCA(n_components=2)\n",
    "reduced=pca.fit_transform(data.iloc[:,:-1])\n",
    "reduced=pd.DataFrame(np.column_stack([reduced, df.clusters]), columns=['Comp1','Comp2','Cluster'])\n",
    "\n",
    "plt.figure(figsize=(10,10))\n",
    "sns.scatterplot(data=reduced, hue='Cluster', x='Comp1',y='Comp2', palette='Set1')\n",
    "plt.title('Clusters graphical Representation on data reduced to two dimensions',  fontsize=12)\n",
    "plt.show()"
   ]
  },
  {
   "cell_type": "code",
   "execution_count": null,
   "id": "dc3838ee",
   "metadata": {
    "papermill": {
     "duration": null,
     "end_time": null,
     "exception": null,
     "start_time": null,
     "status": "pending"
    },
    "tags": []
   },
   "outputs": [],
   "source": [
    "##Clearly the clusterization is not looking perfect on two dimensions . Since KMeans works good with spherical forms elongated cluster may present a problem for this centroid-based distance algorithm. It seems that choosing 6 clusters could provide better results.\n",
    "\n",
    "##Let´s see the means of the original  numerical variable values for different clusters now. "
   ]
  },
  {
   "cell_type": "code",
   "execution_count": null,
   "id": "39f38c37",
   "metadata": {
    "execution": {
     "iopub.execute_input": "2022-07-03T10:32:53.345160Z",
     "iopub.status.busy": "2022-07-03T10:32:53.344627Z",
     "iopub.status.idle": "2022-07-03T10:32:53.611191Z",
     "shell.execute_reply": "2022-07-03T10:32:53.610555Z"
    },
    "papermill": {
     "duration": null,
     "end_time": null,
     "exception": null,
     "start_time": null,
     "status": "pending"
    },
    "tags": []
   },
   "outputs": [],
   "source": [
    "means=df.iloc[:,2:].groupby('clusters').mean()\n",
    "\n",
    "\n",
    "plt.figure(figsize=(10,10))\n",
    "means.groupby('clusters').mean().plot(kind='bar', figsize=(15,5))\n",
    "plt.title('variable means per cluster')\n",
    "plt.show()"
   ]
  },
  {
   "cell_type": "code",
   "execution_count": null,
   "id": "4068a2d5",
   "metadata": {
    "execution": {
     "iopub.execute_input": "2022-07-03T10:32:53.907142Z",
     "iopub.status.busy": "2022-07-03T10:32:53.906606Z",
     "iopub.status.idle": "2022-07-03T10:32:53.919534Z",
     "shell.execute_reply": "2022-07-03T10:32:53.918579Z"
    },
    "papermill": {
     "duration": null,
     "end_time": null,
     "exception": null,
     "start_time": null,
     "status": "pending"
    },
    "tags": []
   },
   "outputs": [],
   "source": [
    "hierarchy=AgglomerativeClustering(n_clusters=6, affinity='euclidean', linkage='ward', compute_distances=True)\n",
    "\n",
    "df['Hierarchical_clusters']=hierarchy.fit_predict(data)"
   ]
  },
  {
   "cell_type": "markdown",
   "id": "70aa50c2",
   "metadata": {
    "papermill": {
     "duration": null,
     "end_time": null,
     "exception": null,
     "start_time": null,
     "status": "pending"
    },
    "tags": []
   },
   "source": [
    "Let´s plot "
   ]
  },
  {
   "cell_type": "code",
   "execution_count": null,
   "id": "733c9c1d",
   "metadata": {
    "execution": {
     "iopub.execute_input": "2022-07-03T10:32:54.212643Z",
     "iopub.status.busy": "2022-07-03T10:32:54.212348Z",
     "iopub.status.idle": "2022-07-03T10:32:54.217689Z",
     "shell.execute_reply": "2022-07-03T10:32:54.217098Z"
    },
    "papermill": {
     "duration": null,
     "end_time": null,
     "exception": null,
     "start_time": null,
     "status": "pending"
    },
    "tags": []
   },
   "outputs": [],
   "source": [
    "reduced2=pd.DataFrame(np.column_stack([reduced, df['Hierarchical_clusters']]), columns=['Comp1','Comp2','Cluster_K_Means','Hierarchical_Clusters'])"
   ]
  },
  {
   "cell_type": "code",
   "execution_count": null,
   "id": "19de728a",
   "metadata": {
    "execution": {
     "iopub.execute_input": "2022-08-26T15:00:23.625145Z",
     "iopub.status.busy": "2022-08-26T15:00:23.624838Z",
     "iopub.status.idle": "2022-08-26T15:00:23.654534Z",
     "shell.execute_reply": "2022-08-26T15:00:23.653231Z",
     "shell.execute_reply.started": "2022-08-26T15:00:23.625113Z"
    },
    "papermill": {
     "duration": null,
     "end_time": null,
     "exception": null,
     "start_time": null,
     "status": "pending"
    },
    "tags": []
   },
   "outputs": [],
   "source": [
    "plt.figure(figsize=(2,2))\n",
    "sns.scatterplot(data=reduced2, hue='Hierarchical_Clusters', x='Comp1',y='Comp2', palette='Set1')\n",
    "plt.title('Graphical  clusters representation of data reduced to two dimensions',  fontsize=12)\n",
    "plt.show()"
   ]
  },
  {
   "cell_type": "code",
   "execution_count": null,
   "id": "5022432d",
   "metadata": {
    "papermill": {
     "duration": null,
     "end_time": null,
     "exception": null,
     "start_time": null,
     "status": "pending"
    },
    "tags": []
   },
   "outputs": [],
   "source": [
    "##We can see that the clusters are now formed adequately. But what happens if we want to see what are options \n",
    "##in forming clusters, or how the observations will be divided with more or less clusters? We can plot the dendrogram,\n",
    "##even before running the Hierarchical clusterization algorithm that assigns the clusters. Python has the 'dendrogram'\n",
    "###and 'linkage' functions available from scipy.cluster.hierarchy which we will use."
   ]
  },
  {
   "cell_type": "code",
   "execution_count": null,
   "id": "80f8c9fb",
   "metadata": {
    "execution": {
     "iopub.execute_input": "2022-07-03T10:32:55.054354Z",
     "iopub.status.busy": "2022-07-03T10:32:55.053639Z",
     "iopub.status.idle": "2022-07-03T10:32:55.335126Z",
     "shell.execute_reply": "2022-07-03T10:32:55.334254Z"
    },
    "papermill": {
     "duration": null,
     "end_time": null,
     "exception": null,
     "start_time": null,
     "status": "pending"
    },
    "tags": []
   },
   "outputs": [],
   "source": [
    "\n",
    "\n",
    "plt.figure(figsize=(10,10))\n",
    "dendrogram(linkage(data ,method='ward'), truncate_mode='level', p=3 )\n",
    "plt.axhline(y=4, label='threshold', color='red', lw=3)\n",
    "plt.title='Dendrogram'\n",
    "plt.legend(loc=6)\n",
    "plt.show()"
   ]
  },
  {
   "cell_type": "markdown",
   "id": "cb5b6bf8",
   "metadata": {
    "papermill": {
     "duration": null,
     "end_time": null,
     "exception": null,
     "start_time": null,
     "status": "pending"
    },
    "tags": []
   },
   "source": []
  },
  {
   "cell_type": "code",
   "execution_count": null,
   "id": "6dc670a5",
   "metadata": {
    "execution": {
     "iopub.execute_input": "2022-07-03T10:32:55.638752Z",
     "iopub.status.busy": "2022-07-03T10:32:55.638438Z",
     "iopub.status.idle": "2022-07-03T10:32:55.645736Z",
     "shell.execute_reply": "2022-07-03T10:32:55.644333Z"
    },
    "papermill": {
     "duration": null,
     "end_time": null,
     "exception": null,
     "start_time": null,
     "status": "pending"
    },
    "tags": []
   },
   "outputs": [],
   "source": [
    "#Number of observations per Cluster\n",
    "print(reduced2.Hierarchical_Clusters.value_counts())"
   ]
  }
 ],
 "metadata": {
  "kernelspec": {
   "display_name": "Python 3.10.0 64-bit",
   "language": "python",
   "name": "python3"
  },
  "language_info": {
   "codemirror_mode": {
    "name": "ipython",
    "version": 3
   },
   "file_extension": ".py",
   "mimetype": "text/x-python",
   "name": "python",
   "nbconvert_exporter": "python",
   "pygments_lexer": "ipython3",
   "version": "3.10.0"
  },
  "papermill": {
   "default_parameters": {},
   "duration": 13.014773,
   "end_time": "2022-08-30T03:15:24.374031",
   "environment_variables": {},
   "exception": true,
   "input_path": "__notebook__.ipynb",
   "output_path": "__notebook__.ipynb",
   "parameters": {},
   "start_time": "2022-08-30T03:15:11.359258",
   "version": "2.3.4"
  },
  "vscode": {
   "interpreter": {
    "hash": "369f2c481f4da34e4445cda3fffd2e751bd1c4d706f27375911949ba6bb62e1c"
   }
  }
 },
 "nbformat": 4,
 "nbformat_minor": 5
}
